{
 "cells": [
  {
   "cell_type": "markdown",
   "metadata": {
    "application/vnd.databricks.v1+cell": {
     "cellMetadata": {
      "byteLimit": 2048000,
      "rowLimit": 10000
     },
     "inputWidgets": {},
     "nuid": "13ac307c-3e9f-418b-9299-e60fd586a3b0",
     "showTitle": false,
     "tableResultSettingsMap": {},
     "title": ""
    }
   },
   "source": [
    "## **Importação de dados**"
   ]
  },
  {
   "cell_type": "code",
   "execution_count": 0,
   "metadata": {
    "application/vnd.databricks.v1+cell": {
     "cellMetadata": {
      "byteLimit": 2048000,
      "rowLimit": 10000
     },
     "inputWidgets": {},
     "nuid": "54394be0-5680-4f25-9b38-349c3ebf29c3",
     "showTitle": false,
     "tableResultSettingsMap": {},
     "title": ""
    },
    "jupyter": {
     "outputs_hidden": true
    }
   },
   "outputs": [],
   "source": [
    "# Instalar bibliotecas necessárias\n",
    "%pip install requests tqdm pandas\n"
   ]
  },
  {
   "cell_type": "code",
   "execution_count": 0,
   "metadata": {
    "application/vnd.databricks.v1+cell": {
     "cellMetadata": {
      "byteLimit": 2048000,
      "rowLimit": 10000
     },
     "inputWidgets": {},
     "nuid": "eb41c823-f028-4175-8751-be61159c67d8",
     "showTitle": false,
     "tableResultSettingsMap": {},
     "title": ""
    }
   },
   "outputs": [],
   "source": [
    "# Importações\n",
    "import os\n",
    "import requests\n",
    "import tarfile\n",
    "from pyspark.sql.functions import lit\n",
    "import pandas as pd\n",
    "from tqdm import tqdm\n",
    "from pyspark.sql.functions import col, to_date, to_timestamp\n",
    "from pyspark.sql.types import StringType, BooleanType, IntegerType, DoubleType\n",
    "from pyspark.sql.functions import avg, sum, countDistinct, stddev\n",
    "import matplotlib.pyplot as plt\n",
    "import numpy as np\n",
    "import seaborn as sns\n",
    "from pyspark.sql import functions as F\n",
    "from scipy.stats import ttest_ind\n",
    "import matplotlib.ticker as mtick\n",
    "import math\n",
    "from pyspark.sql.functions import sum as spark_sum\n",
    "from pyspark.sql.window import Window"
   ]
  },
  {
   "cell_type": "code",
   "execution_count": 0,
   "metadata": {
    "application/vnd.databricks.v1+cell": {
     "cellMetadata": {
      "byteLimit": 2048000,
      "rowLimit": 10000
     },
     "inputWidgets": {},
     "nuid": "bade1446-efc8-424c-84e5-b08849c8d03e",
     "showTitle": false,
     "tableResultSettingsMap": {},
     "title": ""
    }
   },
   "outputs": [],
   "source": [
    "# Função para baixar arquivos diretamente para /dbfs/ (Databricks File System)\n",
    "def baixar_arquivos(urls, dbfs_dir=\"/dbfs/FileStore/iFood/dataset\"):\n",
    "    \"\"\"\n",
    "    Faz download dos arquivos das URLs e salva no diretório DBFS especificado.\n",
    "    \"\"\"\n",
    "    os.makedirs(dbfs_dir, exist_ok=True)\n",
    "\n",
    "    for url in urls:\n",
    "        nome_arquivo = url.split(\"/\")[-1]\n",
    "        local_path = os.path.join(dbfs_dir, nome_arquivo)\n",
    "        if os.path.exists(local_path):\n",
    "            print(f\"Arquivo já existe: {local_path}\")\n",
    "            continue\n",
    "\n",
    "        print(f\"Baixando: {url}\")\n",
    "        response = requests.get(url, stream=True)\n",
    "        if response.status_code == 200:\n",
    "            with open(local_path, 'wb') as f:\n",
    "                for chunk in tqdm(response.iter_content(chunk_size=8192), desc=f\"⬇️ {nome_arquivo}\"):\n",
    "                    f.write(chunk)\n",
    "            print(f\"Salvo em: {local_path}\\n\")\n",
    "        else:\n",
    "            print(f\"Erro ao baixar {url} - Status code: {response.status_code}\")\n",
    "\n"
   ]
  },
  {
   "cell_type": "code",
   "execution_count": 0,
   "metadata": {
    "application/vnd.databricks.v1+cell": {
     "cellMetadata": {
      "byteLimit": 2048000,
      "rowLimit": 10000
     },
     "inputWidgets": {},
     "nuid": "117ba4af-31aa-4cc8-8ffe-941a3f0e7867",
     "showTitle": false,
     "tableResultSettingsMap": {},
     "title": ""
    }
   },
   "outputs": [],
   "source": [
    "# URLs para download\n",
    "urls = [\n",
    "    \"https://data-architect-test-source.s3-sa-east-1.amazonaws.com/order.json.gz\",\n",
    "    \"https://data-architect-test-source.s3-sa-east-1.amazonaws.com/ab_test_ref.tar.gz\",\n",
    "    \"https://data-architect-test-source.s3-sa-east-1.amazonaws.com/consumer.csv.gz\",\n",
    "    \"https://data-architect-test-source.s3-sa-east-1.amazonaws.com/restaurant.csv.gz\"\n",
    "]\n"
   ]
  },
  {
   "cell_type": "code",
   "execution_count": 0,
   "metadata": {
    "application/vnd.databricks.v1+cell": {
     "cellMetadata": {
      "byteLimit": 2048000,
      "rowLimit": 10000
     },
     "inputWidgets": {},
     "nuid": "f130ac11-b2dd-4eac-8bc6-a9efce0300e7",
     "showTitle": false,
     "tableResultSettingsMap": {},
     "title": ""
    }
   },
   "outputs": [],
   "source": [
    "# Baixar arquivos\n",
    "baixar_arquivos(urls, \"/dbfs/FileStore/iFood/dataset\")"
   ]
  },
  {
   "cell_type": "code",
   "execution_count": 0,
   "metadata": {
    "application/vnd.databricks.v1+cell": {
     "cellMetadata": {
      "byteLimit": 2048000,
      "rowLimit": 10000
     },
     "inputWidgets": {},
     "nuid": "fbefada8-23e1-4ed3-a32e-a3e39f45d8ef",
     "showTitle": false,
     "tableResultSettingsMap": {},
     "title": ""
    }
   },
   "outputs": [],
   "source": [
    "# Função para extrair arquivos .tar.gz do DBFS para diretório no DBFS\n",
    "def extract_all_files(tar_file_path, extract_to):\n",
    "    \"\"\"\n",
    "    Extrai o conteúdo de um arquivo tar.gz localizado no DBFS para um diretório também no DBFS.\n",
    "    \"\"\"\n",
    "    local_tar_path = \"/tmp/temp_file.tar.gz\"\n",
    "    local_extract_path = \"/tmp/extracted/\"\n",
    "\n",
    "    # Copiar arquivo do DBFS para local temporário\n",
    "    if not os.path.exists(local_tar_path):\n",
    "        os.system(f\"cp {tar_file_path} {local_tar_path}\")\n",
    "\n",
    "    # Criar diretório de extração temporário\n",
    "    if not os.path.exists(local_extract_path):\n",
    "        os.makedirs(local_extract_path)\n",
    "\n",
    "    # Extrair o tar.gz\n",
    "    with tarfile.open(local_tar_path, 'r:gz') as tar:\n",
    "        tar.extractall(path=local_extract_path)\n",
    "\n",
    "    # Copiar os arquivos extraídos para o DBFS\n",
    "    os.makedirs(extract_to, exist_ok=True)\n",
    "    for root, dirs, files in os.walk(local_extract_path):\n",
    "        for file in files:\n",
    "            src_file = os.path.join(root, file)\n",
    "            dst_file = os.path.join(extract_to, file)\n",
    "            os.system(f\"cp {src_file} {dst_file}\")\n",
    "\n",
    "    print(f\"Arquivos extraídos para: {extract_to}\")\n",
    "\n",
    "# Executar extração\n",
    "extract_all_files(\n",
    "    tar_file_path='/dbfs/FileStore/iFood/dataset/ab_test_ref.tar.gz', \n",
    "    extract_to='/dbfs/FileStore/iFood/dataset/extracted'\n",
    ")\n"
   ]
  },
  {
   "cell_type": "code",
   "execution_count": 0,
   "metadata": {
    "application/vnd.databricks.v1+cell": {
     "cellMetadata": {
      "byteLimit": 2048000,
      "rowLimit": 10000
     },
     "inputWidgets": {},
     "nuid": "aab685eb-99bf-4016-bfce-c0b4adb40d57",
     "showTitle": false,
     "tableResultSettingsMap": {},
     "title": ""
    }
   },
   "outputs": [],
   "source": [
    "# Leitura dos arquivos\n",
    "df_users = spark.read.option(\"compression\", \"gzip\").csv(\"/FileStore/iFood/dataset/consumer.csv.gz\", header=True, inferSchema=True)\n",
    "df_restaurants = spark.read.option(\"compression\", \"gzip\").csv(\"/FileStore/iFood/dataset/restaurant.csv.gz\", header=True, inferSchema=True)\n",
    "df_orders = spark.read.option(\"compression\", \"gzip\").json(\"/FileStore/iFood/dataset/order.json.gz\")\n",
    "df_abtest = spark.read.options(header=True, inferSchema=True).csv('/FileStore/iFood/dataset/extracted/ab_test_ref.csv')"
   ]
  },
  {
   "cell_type": "code",
   "execution_count": 0,
   "metadata": {
    "application/vnd.databricks.v1+cell": {
     "cellMetadata": {
      "byteLimit": 2048000,
      "rowLimit": 10000
     },
     "inputWidgets": {},
     "nuid": "53a12dd8-6fa4-49ee-aa1b-ee9d8502438d",
     "showTitle": false,
     "tableResultSettingsMap": {},
     "title": ""
    }
   },
   "outputs": [],
   "source": [
    "#Juntar (join) com o DataFrame de pedidos para analisar comportamento\n",
    "\n",
    "df_abtest_orders = df_orders.join(df_abtest, on=\"customer_id\", how=\"inner\")\n"
   ]
  },
  {
   "cell_type": "markdown",
   "metadata": {
    "application/vnd.databricks.v1+cell": {
     "cellMetadata": {
      "byteLimit": 2048000,
      "rowLimit": 10000
     },
     "inputWidgets": {},
     "nuid": "2b36a75d-581f-4276-b20b-61c5bd16cff2",
     "showTitle": false,
     "tableResultSettingsMap": {},
     "title": ""
    }
   },
   "source": [
    "### Segmentação Avançada — Receita e Comportamento\n",
    "\n"
   ]
  },
  {
   "cell_type": "code",
   "execution_count": 0,
   "metadata": {
    "application/vnd.databricks.v1+cell": {
     "cellMetadata": {
      "byteLimit": 2048000,
      "rowLimit": 10000
     },
     "inputWidgets": {},
     "nuid": "a83f6a29-63ce-4844-954b-2193dc34f6ff",
     "showTitle": false,
     "tableResultSettingsMap": {},
     "title": ""
    }
   },
   "outputs": [],
   "source": [
    "# ===============================\n",
    "# 🧠 1. Calcular métricas por cliente\n",
    "# ===============================\n",
    "\n",
    "# 🔸 Calcular frequência, ticket médio e ARPU\n",
    "df_clientes = (\n",
    "    df_abtest_orders\n",
    "    .groupBy(\"customer_id\")\n",
    "    .agg(\n",
    "        F.countDistinct(\"order_id\").alias(\"frequencia_pedidos\"),\n",
    "        F.sum(\"order_total_amount\").alias(\"receita_total\"),\n",
    "        (F.sum(\"order_total_amount\") / F.countDistinct(\"order_id\")).alias(\"ticket_medio\")\n",
    "    )\n",
    "    .withColumn(\"arpu\", F.col(\"receita_total\"))  # ARPU = receita_total (já que é receita por cliente no período)\n",
    ")\n",
    "\n",
    "# ===============================\n",
    "# 📏 2. Calcular os percentis (25 e 75)\n",
    "# ===============================\n",
    "\n",
    "# 🔸 Coletar os percentis\n",
    "percentis = df_clientes.selectExpr(\n",
    "    \"percentile_approx(arpu, array(0.25, 0.75)) as arpu_percentis\",\n",
    "    \"percentile_approx(frequencia_pedidos, array(0.25, 0.75)) as freq_percentis\",\n",
    "    \"percentile_approx(ticket_medio, array(0.25, 0.75)) as ticket_percentis\"\n",
    ").collect()[0]\n",
    "\n",
    "# 🔍 Extrair os valores\n",
    "arpu_p25, arpu_p75 = percentis[\"arpu_percentis\"]\n",
    "freq_p25, freq_p75 = percentis[\"freq_percentis\"]\n",
    "ticket_p25, ticket_p75 = percentis[\"ticket_percentis\"]\n",
    "\n",
    "# ===============================\n",
    "# 🏷️ 3. Criar a coluna de Segmento\n",
    "# ===============================\n",
    "\n",
    "df_segmentado = (\n",
    "    df_clientes\n",
    "    .withColumn(\n",
    "        \"segmento\",\n",
    "        F.when(\n",
    "            (F.col(\"arpu\") >= arpu_p75) |\n",
    "            ((F.col(\"ticket_medio\") >= ticket_p75) & (F.col(\"frequencia_pedidos\") >= freq_p75)),\n",
    "            \"Alta Receita 🔴\"\n",
    "        ).when(\n",
    "            (F.col(\"arpu\") <= arpu_p25) |\n",
    "            ((F.col(\"frequencia_pedidos\") <= freq_p25) & (F.col(\"ticket_medio\") <= ticket_p25)),\n",
    "            \"Baixa Receita ⚪\"\n",
    "        ).otherwise(\"Média Receita ⚫\")\n",
    "    )\n",
    ")\n",
    "\n",
    "# ▶️ Visualizar a tabela segmentada\n",
    "df_segmentado.display()\n",
    "\n",
    "# ===============================\n",
    "# 📊 4. Distribuição dos Segmentos\n",
    "# ===============================\n",
    "\n",
    "# 🔸 Contagem dos clientes por segmento\n",
    "segmento_count = (\n",
    "    df_segmentado\n",
    "    .groupBy(\"segmento\")\n",
    "    .agg(F.countDistinct(\"customer_id\").alias(\"quantidade_clientes\"))\n",
    "    .orderBy(F.col(\"quantidade_clientes\").desc())\n",
    ")\n",
    "\n",
    "# 🔄 Converter para Pandas\n",
    "segmento_count_pd = segmento_count.toPandas()\n",
    "\n",
    "# 🎨 Definir cores dos segmentos\n",
    "colors = ['#EA1D2C' if s == 'Alta Receita 🔴' \n",
    "          else '#2E2E2E' if s == 'Média Receita ⚫' \n",
    "          else '#CCCCCC' for s in segmento_count_pd['segmento']]\n",
    "\n",
    "# 📈 Plot do gráfico de barras\n",
    "plt.figure(figsize=(7,5))\n",
    "bars = plt.bar(\n",
    "    segmento_count_pd['segmento'],\n",
    "    segmento_count_pd['quantidade_clientes'],\n",
    "    color=colors\n",
    ")\n",
    "\n",
    "# 🏷️ Adicionar rótulos nos bares\n",
    "for bar in bars:\n",
    "    height = bar.get_height()\n",
    "    plt.text(\n",
    "        bar.get_x() + bar.get_width() / 2,\n",
    "        height,\n",
    "        f'{int(height):,}'.replace(',', '.'),\n",
    "        ha='center', va='bottom',\n",
    "        fontsize=10, fontweight='bold', color='#333333'\n",
    "    )\n",
    "\n",
    "plt.xlabel('Segmento', fontsize=10, fontweight='bold')\n",
    "plt.ylabel('Quantidade de Clientes', fontsize=10, fontweight='bold')\n",
    "plt.title('Distribuição de Clientes por Segmento de Receita', fontsize=12, fontweight='bold')\n",
    "plt.grid(axis='y', linestyle='--', alpha=0.7)\n",
    "plt.tight_layout()\n",
    "plt.show()\n",
    "\n"
   ]
  },
  {
   "cell_type": "markdown",
   "metadata": {
    "application/vnd.databricks.v1+cell": {
     "cellMetadata": {
      "byteLimit": 2048000,
      "rowLimit": 10000
     },
     "inputWidgets": {},
     "nuid": "2d920c1b-e859-4450-ba0b-44994a88c6a2",
     "showTitle": false,
     "tableResultSettingsMap": {},
     "title": ""
    }
   },
   "source": [
    "### Analisar os resultados do teste A/B com base nos segmentos novos"
   ]
  },
  {
   "cell_type": "code",
   "execution_count": 0,
   "metadata": {
    "application/vnd.databricks.v1+cell": {
     "cellMetadata": {
      "byteLimit": 2048000,
      "rowLimit": 10000
     },
     "inputWidgets": {},
     "nuid": "6ea177d4-fff9-4c83-9253-1ccc255d092d",
     "showTitle": false,
     "tableResultSettingsMap": {},
     "title": ""
    }
   },
   "outputs": [],
   "source": [
    "# ===============================\n",
    "# 🔗 1. Juntar pedidos com a segmentação\n",
    "# ===============================\n",
    "\n",
    "df_orders_segmentado = (\n",
    "    df_abtest_orders.join(df_segmentado.select(\"customer_id\", \"segmento\"), on=\"customer_id\", how=\"inner\")\n",
    ")\n",
    "\n",
    "# ===============================\n",
    "# 📊 2. Calcular métricas por Segmento\n",
    "# ===============================\n",
    "\n",
    "metrics_segmento = (\n",
    "    df_orders_segmentado\n",
    "    .groupBy(\"segmento\")\n",
    "    .agg(\n",
    "        F.countDistinct(\"customer_id\").alias(\"clientes_unicos\"),\n",
    "        F.countDistinct(\"order_id\").alias(\"pedidos_unicos\"),\n",
    "        F.sum(\"order_total_amount\").alias(\"receita_total\"),\n",
    "        (F.sum(\"order_total_amount\") / F.countDistinct(\"customer_id\")).alias(\"arpu\"),\n",
    "        (F.sum(\"order_total_amount\") / F.countDistinct(\"order_id\")).alias(\"ticket_medio\"),\n",
    "        (F.countDistinct(\"order_id\") / F.countDistinct(\"customer_id\")).alias(\"frequencia_media\")\n",
    "    )\n",
    "    .orderBy(F.col(\"receita_total\").desc())\n",
    ")\n",
    "\n",
    "# ▶️ Visualizar\n",
    "metrics_segmento.display()\n"
   ]
  },
  {
   "cell_type": "code",
   "execution_count": 0,
   "metadata": {
    "application/vnd.databricks.v1+cell": {
     "cellMetadata": {},
     "inputWidgets": {},
     "nuid": "344df309-1c2a-41de-8ed5-21a06e8a7f51",
     "showTitle": false,
     "tableResultSettingsMap": {},
     "title": ""
    }
   },
   "outputs": [],
   "source": [
    "# 1️⃣ Agregar dados por cliente\n",
    "\n",
    "\n",
    "# Calcular frequência, receita total, ticket médio e ARPU\n",
    "cliente_metrics = df_abtest_orders.groupBy('customer_id').agg(\n",
    "    F.countDistinct('order_id').alias('frequencia_pedidos'),\n",
    "    F.sum('order_total_amount').alias('receita_total'),\n",
    "    (F.sum('order_total_amount') / F.countDistinct('order_id')).alias('ticket_medio')\n",
    ")\n",
    "\n",
    "# Calcular ARPU (Receita média por cliente = receita total)\n",
    "cliente_metrics = cliente_metrics.withColumn('arpu', F.col('receita_total'))\n",
    "\n",
    "# 2️⃣ Calcular percentis para segmentação\n",
    "# Obter os percentis de ARPU e Ticket Médio\n",
    "arpu_percentis = cliente_metrics.approxQuantile('arpu', [0.25, 0.75], 0.01)\n",
    "ticket_percentis = cliente_metrics.approxQuantile('ticket_medio', [0.25, 0.75], 0.01)\n",
    "\n",
    "arpu_p25, arpu_p75 = arpu_percentis\n",
    "ticket_p25, ticket_p75 = ticket_percentis\n",
    "\n",
    "# 3️⃣ Criar a segmentação\n",
    "cliente_metrics = cliente_metrics.withColumn(\n",
    "    'segmento',\n",
    "    F.when(\n",
    "        (F.col('arpu') >= arpu_p75) |\n",
    "        ((F.col('ticket_medio') >= ticket_p75) & (F.col('frequencia_pedidos') >= 3)),\n",
    "        'Alta Receita 🔴'\n",
    "    ).when(\n",
    "        (F.col('arpu') <= arpu_p25) |\n",
    "        ((F.col('frequencia_pedidos') <= 1) & (F.col('ticket_medio') <= ticket_p25)),\n",
    "        'Baixa Receita ⚪'\n",
    "    ).otherwise('Média Receita ⚫')\n",
    ")\n",
    "\n",
    "# ✔️ Resultado do dataframe com as métricas e segmentos\n",
    "cliente_metrics.display()\n"
   ]
  },
  {
   "cell_type": "code",
   "execution_count": 0,
   "metadata": {
    "application/vnd.databricks.v1+cell": {
     "cellMetadata": {
      "byteLimit": 2048000,
      "rowLimit": 10000
     },
     "inputWidgets": {},
     "nuid": "00d9b494-79c0-439c-ac16-b98e5de8e1ee",
     "showTitle": false,
     "tableResultSettingsMap": {},
     "title": ""
    }
   },
   "outputs": [],
   "source": [
    "# ===============================\n",
    "# 🔄 Converter para Pandas para plotagem\n",
    "# ===============================\n",
    "\n",
    "metrics_pd = metrics_segmento.toPandas()\n",
    "\n",
    "# 🔄 Ordenar os segmentos\n",
    "order_segmentos = ['Alta Receita 🔴', 'Média Receita ⚫', 'Baixa Receita ⚪']\n",
    "metrics_pd['segmento'] = pd.Categorical(metrics_pd['segmento'], categories=order_segmentos, ordered=True)\n",
    "metrics_pd = metrics_pd.sort_values('segmento')\n",
    "\n",
    "# 🎨 Definir cores dos segmentos\n",
    "colors = ['#EA1D2C', '#2E2E2E', '#CCCCCC']\n",
    "\n",
    "# ===============================\n",
    "# 📈 1. Gráfico de ARPU\n",
    "# ===============================\n",
    "\n",
    "plt.figure(figsize=(7,5))\n",
    "bars = plt.bar(metrics_pd['segmento'], metrics_pd['arpu'], color=colors)\n",
    "\n",
    "for bar in bars:\n",
    "    height = bar.get_height()\n",
    "    plt.text(bar.get_x() + bar.get_width()/2, height,\n",
    "             f'R$ {height:,.2f}'.replace(',', 'X').replace('.', ',').replace('X', '.'),\n",
    "             ha='center', va='bottom', fontsize=10, fontweight='bold', color='#333333')\n",
    "\n",
    "plt.title('ARPU por Segmento', fontsize=12, fontweight='bold')\n",
    "plt.ylabel('ARPU (R$)', fontsize=10, fontweight='bold')\n",
    "plt.grid(axis='y', linestyle='--', alpha=0.7)\n",
    "plt.tight_layout()\n",
    "plt.show()\n",
    "\n",
    "# ===============================\n",
    "# 📈 2. Gráfico de Ticket Médio\n",
    "# ===============================\n",
    "\n",
    "plt.figure(figsize=(7,5))\n",
    "bars = plt.bar(metrics_pd['segmento'], metrics_pd['ticket_medio'], color=colors)\n",
    "\n",
    "for bar in bars:\n",
    "    height = bar.get_height()\n",
    "    plt.text(bar.get_x() + bar.get_width()/2, height,\n",
    "             f'R$ {height:,.2f}'.replace(',', 'X').replace('.', ',').replace('X', '.'),\n",
    "             ha='center', va='bottom', fontsize=10, fontweight='bold', color='#333333')\n",
    "\n",
    "plt.title('Ticket Médio por Segmento', fontsize=12, fontweight='bold')\n",
    "plt.ylabel('Ticket Médio (R$)', fontsize=10, fontweight='bold')\n",
    "plt.grid(axis='y', linestyle='--', alpha=0.7)\n",
    "plt.tight_layout()\n",
    "plt.show()\n",
    "\n",
    "# ===============================\n",
    "# 📈 3. Gráfico de Frequência Média\n",
    "# ===============================\n",
    "\n",
    "plt.figure(figsize=(7,5))\n",
    "bars = plt.bar(metrics_pd['segmento'], metrics_pd['frequencia_media'], color=colors)\n",
    "\n",
    "for bar in bars:\n",
    "    height = bar.get_height()\n",
    "    plt.text(bar.get_x() + bar.get_width()/2, height,\n",
    "             f'{height:,.2f}'.replace(',', 'X').replace('.', ',').replace('X', '.'),\n",
    "             ha='center', va='bottom', fontsize=10, fontweight='bold', color='#333333')\n",
    "\n",
    "plt.title('Frequência Média de Pedidos por Segmento', fontsize=12, fontweight='bold')\n",
    "plt.ylabel('Frequência Média', fontsize=10, fontweight='bold')\n",
    "plt.grid(axis='y', linestyle='--', alpha=0.7)\n",
    "plt.tight_layout()\n",
    "plt.show()\n"
   ]
  },
  {
   "cell_type": "markdown",
   "metadata": {
    "application/vnd.databricks.v1+cell": {
     "cellMetadata": {
      "byteLimit": 2048000,
      "rowLimit": 10000
     },
     "inputWidgets": {},
     "nuid": "2f8ef528-9932-4037-a8f6-ec625619eb84",
     "showTitle": false,
     "tableResultSettingsMap": {},
     "title": ""
    }
   },
   "source": [
    "## Analise financeira"
   ]
  },
  {
   "cell_type": "code",
   "execution_count": 0,
   "metadata": {
    "application/vnd.databricks.v1+cell": {
     "cellMetadata": {
      "byteLimit": 2048000,
      "rowLimit": 10000
     },
     "inputWidgets": {},
     "nuid": "b2e4ace2-5873-4e2c-a6f0-a19e11059cc4",
     "showTitle": false,
     "tableResultSettingsMap": {},
     "title": ""
    }
   },
   "outputs": [],
   "source": [
    "from pyspark.sql import functions as F\n",
    "\n",
    "# Valor do cupom\n",
    "valor_cupom = 10\n",
    "\n",
    "# Agrupar por segmento, calcular receita total e quantidade de clientes distintos\n",
    "df_financeiro_segmento = (\n",
    "    df_segmentado\n",
    "    .groupBy(\"segmento\")\n",
    "    .agg(\n",
    "        F.sum(\"receita_total\").alias(\"receita_total\"),\n",
    "        F.countDistinct(\"customer_id\").alias(\"clientes\")\n",
    "    )\n",
    ")\n",
    "\n",
    "# Converter para pandas para cálculos financeiros\n",
    "financeiro_pd = df_financeiro_segmento.toPandas()\n",
    "\n",
    "resultados = []\n",
    "\n",
    "for _, row in financeiro_pd.iterrows():\n",
    "    segmento = row['segmento']\n",
    "    receita_total = row['receita_total']\n",
    "    clientes = row['clientes']\n",
    "    \n",
    "    # Receita Incremental = receita total da campanha (considerando receita total)\n",
    "    receita_incremental = receita_total\n",
    "    \n",
    "    # Custo da campanha = número de clientes * valor do cupom\n",
    "    custo_campanha = clientes * valor_cupom\n",
    "    \n",
    "    # Resultado líquido\n",
    "    resultado_liquido = receita_incremental - custo_campanha\n",
    "    \n",
    "    # ROI (em %)\n",
    "    roi = (resultado_liquido / custo_campanha) * 100 if custo_campanha != 0 else 0\n",
    "    \n",
    "    resultados.append({\n",
    "        \"Segmento\": segmento,\n",
    "        \"Receita Total (R$)\": receita_total,\n",
    "        \"Clientes\": clientes,\n",
    "        \"Receita Incremental (R$)\": receita_incremental,\n",
    "        \"Custo da Campanha (R$)\": custo_campanha,\n",
    "        \"Resultado Líquido (R$)\": resultado_liquido,\n",
    "        \"ROI (%)\": roi\n",
    "    })\n",
    "\n",
    "import pandas as pd\n",
    "pd.options.display.float_format = '{:,.2f}'.format\n",
    "\n",
    "df_resultado_financeiro = pd.DataFrame(resultados)\n",
    "display(df_resultado_financeiro)\n"
   ]
  },
  {
   "cell_type": "code",
   "execution_count": 0,
   "metadata": {
    "application/vnd.databricks.v1+cell": {
     "cellMetadata": {
      "byteLimit": 2048000,
      "rowLimit": 10000
     },
     "inputWidgets": {},
     "nuid": "6f1c1aab-61da-4407-888d-42ef7ec09d1b",
     "showTitle": false,
     "tableResultSettingsMap": {},
     "title": ""
    }
   },
   "outputs": [],
   "source": [
    "\n",
    "import matplotlib.pyplot as plt\n",
    "\n",
    "# Preparar dados para gráfico\n",
    "segmentos = df_resultado_financeiro[\"Segmento\"]\n",
    "receita = df_resultado_financeiro[\"Receita Incremental (R$)\"]\n",
    "custo = df_resultado_financeiro[\"Custo da Campanha (R$)\"]\n",
    "resultado = df_resultado_financeiro[\"Resultado Líquido (R$)\"]\n",
    "roi = df_resultado_financeiro[\"ROI (%)\"]\n",
    "\n",
    "# Cores iFood para segmentos\n",
    "colors = ['#EA1D2C' if seg == 'Alta Receita 🔴' else '#2E2E2E' if seg == 'Média Receita ⚫' else '#CCCCCC' for seg in segmentos]\n",
    "\n",
    "plt.figure(figsize=(12, 8))\n",
    "\n",
    "# Receita vs Custo\n",
    "plt.subplot(2, 1, 1)\n",
    "bar_width = 0.35\n",
    "x = range(len(segmentos))\n",
    "\n",
    "plt.bar(x, receita, width=bar_width, color=colors, label='Receita Incremental (R$)')\n",
    "plt.bar([i + bar_width for i in x], custo, width=bar_width, color='#FFD700', label='Custo da Campanha (R$)')\n",
    "\n",
    "plt.xticks([i + bar_width / 2 for i in x], segmentos, fontsize=12, fontweight='bold')\n",
    "plt.ylabel('R$ (Reais)', fontsize=12)\n",
    "plt.title('Receita Incremental e Custo da Campanha por Segmento', fontsize=14, fontweight='bold')\n",
    "plt.legend()\n",
    "plt.grid(axis='y', linestyle='--', alpha=0.7)\n",
    "\n",
    "# Resultado Líquido e ROI\n",
    "plt.subplot(2, 1, 2)\n",
    "plt.bar(x, resultado, width=bar_width, color=colors, label='Resultado Líquido (R$)')\n",
    "plt.xticks(x, segmentos, fontsize=12, fontweight='bold')\n",
    "plt.ylabel('R$ (Reais)', fontsize=12)\n",
    "plt.title('Resultado Líquido por Segmento', fontsize=14, fontweight='bold')\n",
    "plt.grid(axis='y', linestyle='--', alpha=0.7)\n",
    "\n",
    "for i, val in enumerate(resultado):\n",
    "    plt.text(i, val + max(resultado)*0.02, f'{val:,.0f}', ha='center', fontsize=10, fontweight='bold')\n",
    "\n",
    "plt.tight_layout()\n",
    "plt.show()\n",
    "\n",
    "# Gráfico de ROI (%)\n",
    "plt.figure(figsize=(8,5))\n",
    "plt.bar(segmentos, roi, color=colors)\n",
    "plt.title('ROI (%) por Segmento', fontsize=14, fontweight='bold')\n",
    "plt.ylabel('ROI (%)', fontsize=12)\n",
    "plt.xlabel('Segmento', fontsize=12)\n",
    "plt.grid(axis='y', linestyle='--', alpha=0.7)\n",
    "\n",
    "for i, val in enumerate(roi):\n",
    "    plt.text(i, val + max(roi)*0.02, f'{val:.2f}%', ha='center', fontsize=10, fontweight='bold')\n",
    "\n",
    "plt.show()\n",
    "\n",
    "\n"
   ]
  },
  {
   "cell_type": "code",
   "execution_count": 0,
   "metadata": {
    "application/vnd.databricks.v1+cell": {
     "cellMetadata": {
      "byteLimit": 2048000,
      "rowLimit": 10000
     },
     "inputWidgets": {},
     "nuid": "3d9e9ed9-7e25-458f-b4bd-58d7ac8f4d61",
     "showTitle": false,
     "tableResultSettingsMap": {},
     "title": ""
    }
   },
   "outputs": [],
   "source": [
    "\n",
    "\n",
    "# Dados base\n",
    "clientes_unicos = 806466\n",
    "receita_total = 24134545.43\n",
    "\n",
    "# Receita incremental (exemplo, 5% da receita total)\n",
    "receita_incremental = receita_total * 0.05\n",
    "\n",
    "# Lista de valores de cupom simulados\n",
    "valores_cupom = list(range(1, 21))\n",
    "\n",
    "import matplotlib.pyplot as plt\n",
    "\n",
    "# Dados\n",
    "clientes_unicos = 806466\n",
    "receita_incremental = 19211961.918  # Receita incremental\n",
    "\n",
    "# Valores de cupom simulados\n",
    "valores_cupom = list(range(1, 21))\n",
    "\n",
    "# Listas para armazenar resultados\n",
    "roi_percentual = []\n",
    "custos = []\n",
    "resultados_liquidos = []\n",
    "\n",
    "# Cálculo\n",
    "for valor_cupom in valores_cupom:\n",
    "    custo = valor_cupom * clientes_unicos\n",
    "    resultado_liquido = receita_incremental - custo\n",
    "    roi = (resultado_liquido / custo) * 100 if custo != 0 else 0\n",
    "\n",
    "    custos.append(custo)\n",
    "    resultados_liquidos.append(resultado_liquido)\n",
    "    roi_percentual.append(roi)\n",
    "\n",
    "# 📈 Plotando o gráfico\n",
    "plt.figure(figsize=(9,5))\n",
    "plt.plot(valores_cupom, roi_percentual, marker='o', color='#EA1D2C', linewidth=2)\n",
    "plt.axhline(0, color='gray', linestyle='--')\n",
    "\n",
    "plt.title('Relação entre Valor do Cupom e ROI (%)', fontsize=14, fontweight='bold')\n",
    "plt.xlabel('Valor do Cupom (R$)', fontsize=12)\n",
    "plt.ylabel('ROI (%)', fontsize=12)\n",
    "plt.grid(True, linestyle='--', alpha=0.7)\n",
    "\n",
    "# 🔖 Adicionando rótulos nos pontos\n",
    "for x, y in zip(valores_cupom, roi_percentual):\n",
    "    plt.text(x, y, f'{y:.1f}%', ha='center', va='bottom', fontsize=9)\n",
    "\n",
    "plt.tight_layout()\n",
    "plt.show()\n",
    "\n"
   ]
  }
 ],
 "metadata": {
  "application/vnd.databricks.v1+notebook": {
   "computePreferences": null,
   "dashboards": [],
   "environmentMetadata": {
    "base_environment": "",
    "environment_version": "1"
   },
   "inputWidgetPreferences": null,
   "language": "python",
   "notebookMetadata": {
    "pythonIndentUnit": 4
   },
   "notebookName": "Case_Ifood_segmento",
   "widgets": {}
  }
 },
 "nbformat": 4,
 "nbformat_minor": 0
}