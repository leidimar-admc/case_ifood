{
 "cells": [
  {
   "cell_type": "markdown",
   "metadata": {
    "application/vnd.databricks.v1+cell": {
     "cellMetadata": {},
     "inputWidgets": {},
     "nuid": "13ac307c-3e9f-418b-9299-e60fd586a3b0",
     "showTitle": false,
     "tableResultSettingsMap": {},
     "title": ""
    }
   },
   "source": [
    "## **Importação de dados**"
   ]
  },
  {
   "cell_type": "code",
   "execution_count": 0,
   "metadata": {
    "application/vnd.databricks.v1+cell": {
     "cellMetadata": {
      "byteLimit": 2048000,
      "rowLimit": 10000
     },
     "inputWidgets": {},
     "nuid": "54394be0-5680-4f25-9b38-349c3ebf29c3",
     "showTitle": false,
     "tableResultSettingsMap": {},
     "title": ""
    }
   },
   "outputs": [],
   "source": [
    "# Instalar bibliotecas necessárias\n",
    "%pip install requests tqdm pandas\n"
   ]
  },
  {
   "cell_type": "code",
   "execution_count": 0,
   "metadata": {
    "application/vnd.databricks.v1+cell": {
     "cellMetadata": {
      "byteLimit": 2048000,
      "rowLimit": 10000
     },
     "inputWidgets": {},
     "nuid": "eb41c823-f028-4175-8751-be61159c67d8",
     "showTitle": false,
     "tableResultSettingsMap": {},
     "title": ""
    }
   },
   "outputs": [],
   "source": [
    "# Importação de bibliotecas\n",
    "\n",
    "# Manipulação de dados\n",
    "import pandas as pd\n",
    "import numpy as np\n",
    "from tqdm import tqdm\n",
    "\n",
    "# PySpark\n",
    "from pyspark.sql import SparkSession\n",
    "from pyspark.sql import functions as F\n",
    "from pyspark.sql.functions import (\n",
    "    avg, col, countDistinct, lit, stddev, sum as spark_sum,\n",
    "    to_date, to_timestamp\n",
    ")\n",
    "from pyspark.sql.types import (\n",
    "    BooleanType, DoubleType, IntegerType, StringType\n",
    ")\n",
    "\n",
    "# Visualização de dados\n",
    "import matplotlib.pyplot as plt\n",
    "import matplotlib.ticker as mtick\n",
    "import seaborn as sns\n",
    "\n",
    "# Estatística\n",
    "from scipy.stats import ttest_ind\n",
    "import math\n",
    "\n",
    "# Sistema e arquivos\n",
    "import os\n",
    "import requests\n",
    "import tarfile\n",
    "\n"
   ]
  },
  {
   "cell_type": "code",
   "execution_count": 0,
   "metadata": {
    "application/vnd.databricks.v1+cell": {
     "cellMetadata": {
      "byteLimit": 2048000,
      "rowLimit": 10000
     },
     "inputWidgets": {},
     "nuid": "bade1446-efc8-424c-84e5-b08849c8d03e",
     "showTitle": false,
     "tableResultSettingsMap": {},
     "title": ""
    }
   },
   "outputs": [],
   "source": [
    "# Função para baixar arquivos diretamente para /dbfs/ (Databricks File System)\n",
    "\n",
    "def baixar_arquivos(urls, dbfs_dir=\"/dbfs/FileStore/iFood/dataset\"):\n",
    "    \"\"\"\n",
    "    Faz download dos arquivos das URLs e salva no diretório DBFS especificado.\n",
    "    \"\"\"\n",
    "    os.makedirs(dbfs_dir, exist_ok=True)\n",
    "\n",
    "    for url in urls:\n",
    "        nome_arquivo = url.split(\"/\")[-1]\n",
    "        local_path = os.path.join(dbfs_dir, nome_arquivo)\n",
    "        if os.path.exists(local_path):\n",
    "            print(f\"Arquivo já existe: {local_path}\")\n",
    "            continue\n",
    "\n",
    "        print(f\"Baixando: {url}\")\n",
    "        response = requests.get(url, stream=True)\n",
    "        if response.status_code == 200:\n",
    "            with open(local_path, 'wb') as f:\n",
    "                for chunk in tqdm(response.iter_content(chunk_size=8192), desc=f\"⬇️ {nome_arquivo}\"):\n",
    "                    f.write(chunk)\n",
    "            print(f\"Salvo em: {local_path}\\n\")\n",
    "        else:\n",
    "            print(f\"Erro ao baixar {url} - Status code: {response.status_code}\")\n",
    "\n"
   ]
  },
  {
   "cell_type": "code",
   "execution_count": 0,
   "metadata": {
    "application/vnd.databricks.v1+cell": {
     "cellMetadata": {
      "byteLimit": 2048000,
      "rowLimit": 10000
     },
     "inputWidgets": {},
     "nuid": "117ba4af-31aa-4cc8-8ffe-941a3f0e7867",
     "showTitle": false,
     "tableResultSettingsMap": {},
     "title": ""
    }
   },
   "outputs": [],
   "source": [
    "# URLs para download\n",
    "\n",
    "urls = [\n",
    "    \"https://data-architect-test-source.s3-sa-east-1.amazonaws.com/order.json.gz\",\n",
    "    \"https://data-architect-test-source.s3-sa-east-1.amazonaws.com/ab_test_ref.tar.gz\",\n",
    "    \"https://data-architect-test-source.s3-sa-east-1.amazonaws.com/consumer.csv.gz\",\n",
    "    \"https://data-architect-test-source.s3-sa-east-1.amazonaws.com/restaurant.csv.gz\"\n",
    "]\n"
   ]
  },
  {
   "cell_type": "code",
   "execution_count": 0,
   "metadata": {
    "application/vnd.databricks.v1+cell": {
     "cellMetadata": {
      "byteLimit": 2048000,
      "rowLimit": 10000
     },
     "inputWidgets": {},
     "nuid": "f130ac11-b2dd-4eac-8bc6-a9efce0300e7",
     "showTitle": false,
     "tableResultSettingsMap": {},
     "title": ""
    }
   },
   "outputs": [],
   "source": [
    "# Baixar arquivos\n",
    "\n",
    "baixar_arquivos(urls, \"/dbfs/FileStore/iFood/dataset\")"
   ]
  },
  {
   "cell_type": "code",
   "execution_count": 0,
   "metadata": {
    "application/vnd.databricks.v1+cell": {
     "cellMetadata": {
      "byteLimit": 2048000,
      "rowLimit": 10000
     },
     "inputWidgets": {},
     "nuid": "fbefada8-23e1-4ed3-a32e-a3e39f45d8ef",
     "showTitle": false,
     "tableResultSettingsMap": {},
     "title": ""
    }
   },
   "outputs": [],
   "source": [
    "# Função para extrair arquivos .tar.gz do DBFS para diretório no DBFS\n",
    "def extract_all_files(tar_file_path, extract_to):\n",
    "    \"\"\"\n",
    "    Extrai o conteúdo de um arquivo tar.gz localizado no DBFS para um diretório também no DBFS.\n",
    "    \"\"\"\n",
    "    local_tar_path = \"/tmp/temp_file.tar.gz\"\n",
    "    local_extract_path = \"/tmp/extracted/\"\n",
    "\n",
    "    # Copiar arquivo do DBFS para local temporário\n",
    "    if not os.path.exists(local_tar_path):\n",
    "        os.system(f\"cp {tar_file_path} {local_tar_path}\")\n",
    "\n",
    "    # Criar diretório de extração temporário\n",
    "    if not os.path.exists(local_extract_path):\n",
    "        os.makedirs(local_extract_path)\n",
    "\n",
    "    # Extrair o tar.gz\n",
    "    with tarfile.open(local_tar_path, 'r:gz') as tar:\n",
    "        tar.extractall(path=local_extract_path)\n",
    "\n",
    "    # Copiar os arquivos extraídos para o DBFS\n",
    "    os.makedirs(extract_to, exist_ok=True)\n",
    "    for root, dirs, files in os.walk(local_extract_path):\n",
    "        for file in files:\n",
    "            src_file = os.path.join(root, file)\n",
    "            dst_file = os.path.join(extract_to, file)\n",
    "            os.system(f\"cp {src_file} {dst_file}\")\n",
    "\n",
    "    print(f\"Arquivos extraídos para: {extract_to}\")\n",
    "\n",
    "# Executar extração\n",
    "extract_all_files(\n",
    "    tar_file_path='/dbfs/FileStore/iFood/dataset/ab_test_ref.tar.gz', \n",
    "    extract_to='/dbfs/FileStore/iFood/dataset/extracted'\n",
    ")\n"
   ]
  },
  {
   "cell_type": "code",
   "execution_count": 0,
   "metadata": {
    "application/vnd.databricks.v1+cell": {
     "cellMetadata": {
      "byteLimit": 2048000,
      "rowLimit": 10000
     },
     "inputWidgets": {},
     "nuid": "aab685eb-99bf-4016-bfce-c0b4adb40d57",
     "showTitle": false,
     "tableResultSettingsMap": {},
     "title": ""
    }
   },
   "outputs": [],
   "source": [
    "# Leitura dos arquivos\n",
    "df_users = spark.read.option(\"compression\", \"gzip\").csv(\"/FileStore/iFood/dataset/consumer.csv.gz\", header=True, inferSchema=True)\n",
    "df_restaurants = spark.read.option(\"compression\", \"gzip\").csv(\"/FileStore/iFood/dataset/restaurant.csv.gz\", header=True, inferSchema=True)\n",
    "df_orders = spark.read.option(\"compression\", \"gzip\").json(\"/FileStore/iFood/dataset/order.json.gz\")\n",
    "df_abtest = spark.read.options(header=True, inferSchema=True).csv('/FileStore/iFood/dataset/extracted/ab_test_ref.csv')"
   ]
  },
  {
   "cell_type": "markdown",
   "metadata": {
    "application/vnd.databricks.v1+cell": {
     "cellMetadata": {},
     "inputWidgets": {},
     "nuid": "7bfdcfcc-3177-4c9d-a97f-a213c3cabd0c",
     "showTitle": false,
     "tableResultSettingsMap": {},
     "title": ""
    }
   },
   "source": [
    "## **Tratamento de dados**"
   ]
  },
  {
   "cell_type": "code",
   "execution_count": 0,
   "metadata": {
    "application/vnd.databricks.v1+cell": {
     "cellMetadata": {
      "byteLimit": 2048000,
      "rowLimit": 10000
     },
     "inputWidgets": {},
     "nuid": "0746ef07-fb3f-49c0-be91-bc5f31d4ea56",
     "showTitle": false,
     "tableResultSettingsMap": {},
     "title": ""
    }
   },
   "outputs": [],
   "source": [
    "#Alterando tipagem\n",
    "\n",
    "# Função para aplicar tipos no df_orders\n",
    "def apply_types_orders_spark(df):\n",
    "    df = (df\n",
    "          .withColumn(\"cpf\", col(\"cpf\").cast(StringType()))\n",
    "          .withColumn(\"customer_id\", col(\"customer_id\").cast(StringType()))\n",
    "          .withColumn(\"customer_name\", col(\"customer_name\").cast(StringType()))\n",
    "          .withColumn(\"delivery_address_city\", col(\"delivery_address_city\").cast(StringType()))\n",
    "          .withColumn(\"delivery_address_country\", col(\"delivery_address_country\").cast(StringType()))\n",
    "          .withColumn(\"delivery_address_district\", col(\"delivery_address_district\").cast(StringType()))\n",
    "          .withColumn(\"delivery_address_external_id\", col(\"delivery_address_external_id\").cast(StringType()))\n",
    "          .withColumn(\"delivery_address_zip_code\", col(\"delivery_address_zip_code\").cast(StringType()))\n",
    "          .withColumn(\"items\", col(\"items\").cast(StringType()))\n",
    "          .withColumn(\"merchant_id\", col(\"merchant_id\").cast(StringType()))\n",
    "          .withColumn(\"merchant_timezone\", col(\"merchant_timezone\").cast(StringType()))\n",
    "          .withColumn(\"order_id\", col(\"order_id\").cast(StringType()))\n",
    "          .withColumn(\"origin_platform\", col(\"origin_platform\").cast(StringType()))\n",
    "          .withColumn(\"delivery_address_latitude\", col(\"delivery_address_latitude\").cast(DoubleType()))\n",
    "          .withColumn(\"delivery_address_longitude\", col(\"delivery_address_longitude\").cast(DoubleType()))\n",
    "          .withColumn(\"merchant_latitude\", col(\"merchant_latitude\").cast(DoubleType()))\n",
    "          .withColumn(\"merchant_longitude\", col(\"merchant_longitude\").cast(DoubleType()))\n",
    "          .withColumn(\"order_total_amount\", col(\"order_total_amount\").cast(DoubleType()))\n",
    "          .withColumn(\"order_created_at\", to_timestamp(col(\"order_created_at\")))\n",
    "          .withColumn(\"order_scheduled_date\", to_timestamp(col(\"order_scheduled_date\")))\n",
    "          .withColumn(\"order_scheduled\", col(\"order_scheduled\").cast(BooleanType()))\n",
    "         )\n",
    "    print(\"Tipos aplicados ao dataframe df_orders\")\n",
    "    return df\n",
    "\n",
    "def apply_types_users_spark(df):\n",
    "    df = (df\n",
    "          .withColumn(\"customer_id\", col(\"customer_id\").cast(StringType()))\n",
    "          .withColumn(\"language\", col(\"language\").cast(StringType()))\n",
    "          .withColumn(\"customer_name\", col(\"customer_name\").cast(StringType()))\n",
    "          .withColumn(\"customer_phone_area\", col(\"customer_phone_area\").cast(StringType()))\n",
    "          .withColumn(\"customer_phone_number\", col(\"customer_phone_number\").cast(StringType()))\n",
    "          .withColumn(\"created_at\", to_timestamp(col(\"created_at\")))\n",
    "          .withColumn(\"active\", col(\"active\").cast(BooleanType()))\n",
    "         )\n",
    "    print(\"Tipos aplicados ao dataframe df_users\")\n",
    "    return df\n",
    "\n",
    "def apply_types_restaurants_spark(df):\n",
    "    df = (df\n",
    "          .withColumn(\"id\", col(\"id\").cast(StringType()))\n",
    "          .withColumn(\"merchant_zip_code\", col(\"merchant_zip_code\").cast(StringType()))\n",
    "          .withColumn(\"merchant_city\", col(\"merchant_city\").cast(StringType()))\n",
    "          .withColumn(\"merchant_state\", col(\"merchant_state\").cast(StringType()))\n",
    "          .withColumn(\"merchant_country\", col(\"merchant_country\").cast(StringType()))\n",
    "          .withColumn(\"created_at\", to_timestamp(col(\"created_at\")))\n",
    "          .withColumn(\"enabled\", col(\"enabled\").cast(BooleanType()))\n",
    "          .withColumn(\"price_range\", col(\"price_range\").cast(IntegerType()))\n",
    "          .withColumn(\"average_ticket\", col(\"average_ticket\").cast(DoubleType()))\n",
    "          .withColumn(\"takeout_time\", col(\"takeout_time\").cast(IntegerType()))\n",
    "          .withColumn(\"delivery_time\", col(\"delivery_time\").cast(DoubleType()))\n",
    "          .withColumn(\"minimum_order_value\", col(\"minimum_order_value\").cast(DoubleType()))\n",
    "         )\n",
    "    print(\"Tipos aplicados ao dataframe df_restaurants\")\n",
    "    return df\n",
    "\n",
    "def apply_types_abtest_spark(df):\n",
    "    df = (df\n",
    "          .withColumn(\"customer_id\", col(\"customer_id\").cast(StringType()))\n",
    "          .withColumn(\"is_target\", col(\"is_target\").cast(StringType()))\n",
    "         )\n",
    "    print(\"Tipos aplicados ao dataframe df_abtest\")\n",
    "    return df\n",
    "\n",
    "# Aplicando os tipos\n",
    "df_orders = apply_types_orders_spark(df_orders)\n",
    "df_users = apply_types_users_spark(df_users)\n",
    "df_restaurants = apply_types_restaurants_spark(df_restaurants)\n",
    "df_abtest = apply_types_abtest_spark(df_abtest)\n",
    "\n",
    "\n",
    "print(\"✔️ Tipagem aplicada a todos os DataFrames com sucesso!\")"
   ]
  },
  {
   "cell_type": "code",
   "execution_count": 0,
   "metadata": {
    "application/vnd.databricks.v1+cell": {
     "cellMetadata": {
      "byteLimit": 2048000,
      "rowLimit": 10000
     },
     "inputWidgets": {},
     "nuid": "bde82c17-5e48-4218-88e9-0640784e14d5",
     "showTitle": false,
     "tableResultSettingsMap": {},
     "title": ""
    }
   },
   "outputs": [],
   "source": [
    "#  Tratamento de nulos\n",
    "\n",
    "# Tratamento de nulos para df_orders\n",
    "df_orders = df_orders.fillna({\n",
    "    \"cpf\": \"\",\n",
    "    \"customer_id\": \"\",\n",
    "    \"customer_name\": \"Unknown\",\n",
    "    \"delivery_address_city\": \"Unknown\",\n",
    "    \"delivery_address_country\": \"Unknown\",\n",
    "    \"delivery_address_district\": \"Unknown\",\n",
    "    \"delivery_address_external_id\": \"\",\n",
    "    \"delivery_address_zip_code\": \"\",\n",
    "    \"items\": \"[]\",\n",
    "    \"merchant_id\": \"\",\n",
    "    \"merchant_timezone\": \"UTC\",\n",
    "    \"order_id\": \"\",\n",
    "    \"origin_platform\": \"Unknown\",\n",
    "    \"delivery_address_latitude\": 0.0,\n",
    "    \"delivery_address_longitude\": 0.0,\n",
    "    \"merchant_latitude\": 0.0,\n",
    "    \"merchant_longitude\": 0.0,\n",
    "    \"order_total_amount\": 0.0,\n",
    "    \"order_scheduled\": False,\n",
    "    \"order_created_at\": \"1970-01-01 00:00:00\",\n",
    "    \"order_scheduled_date\": \"1970-01-01 00:00:00\"\n",
    "})\n",
    "\n",
    "# Tratamento de nulos para df_users\n",
    "df_users = df_users.fillna({\n",
    "    \"customer_id\": \"\",\n",
    "    \"language\": \"unknown\",\n",
    "    \"customer_name\": \"Unknown\",\n",
    "    \"customer_phone_area\": \"\",\n",
    "    \"customer_phone_number\": \"\",\n",
    "    \"active\": False,\n",
    "    \"created_at\": \"1970-01-01 00:00:00\"\n",
    "})\n",
    "\n",
    "# Tratamento de nulos para df_restaurants\n",
    "df_restaurants = df_restaurants.fillna({\n",
    "    \"id\": \"\",\n",
    "    \"merchant_zip_code\": \"\",\n",
    "    \"merchant_city\": \"Unknown\",\n",
    "    \"merchant_state\": \"Unknown\",\n",
    "    \"merchant_country\": \"Unknown\",\n",
    "    \"enabled\": False,\n",
    "    \"price_range\": 0,\n",
    "    \"average_ticket\": 0.0,\n",
    "    \"takeout_time\": 0,\n",
    "    \"delivery_time\": 0.0,\n",
    "    \"minimum_order_value\": 0.0,\n",
    "    \"created_at\": \"1970-01-01 00:00:00\"\n",
    "})\n",
    "\n",
    "# Tratamento de nulos para df_abtest\n",
    "df_abtest = df_abtest.fillna({\n",
    "    \"customer_id\": \"\",\n",
    "    \"is_target\": \"no\"\n",
    "})\n"
   ]
  },
  {
   "cell_type": "markdown",
   "metadata": {
    "application/vnd.databricks.v1+cell": {
     "cellMetadata": {},
     "inputWidgets": {},
     "nuid": "a42ae60b-5c77-47a7-b74c-b93c3fe30912",
     "showTitle": false,
     "tableResultSettingsMap": {},
     "title": ""
    }
   },
   "source": [
    "## **Análise dos Grupos do A/B Test**"
   ]
  },
  {
   "cell_type": "code",
   "execution_count": 0,
   "metadata": {
    "application/vnd.databricks.v1+cell": {
     "cellMetadata": {
      "byteLimit": 2048000,
      "rowLimit": 10000
     },
     "inputWidgets": {},
     "nuid": "3a31bfbe-db25-438f-809b-630bdd44a15b",
     "showTitle": false,
     "tableResultSettingsMap": {},
     "title": ""
    }
   },
   "outputs": [],
   "source": [
    "# Mostrar as colunas do DataFrame\n",
    "print(df_abtest.columns)"
   ]
  },
  {
   "cell_type": "code",
   "execution_count": 0,
   "metadata": {
    "application/vnd.databricks.v1+cell": {
     "cellMetadata": {
      "byteLimit": 2048000,
      "rowLimit": 10000
     },
     "inputWidgets": {},
     "nuid": "3774ae2e-be1d-4c72-9497-d5242f9fc0cf",
     "showTitle": false,
     "tableResultSettingsMap": {},
     "title": ""
    }
   },
   "outputs": [],
   "source": [
    "#Juntar (join) com o DataFrame de pedidos para analisar comportamento\n",
    "\n",
    "df_abtest_orders = df_orders.join(df_abtest, on=\"customer_id\", how=\"inner\")\n"
   ]
  },
  {
   "cell_type": "markdown",
   "metadata": {
    "application/vnd.databricks.v1+cell": {
     "cellMetadata": {},
     "inputWidgets": {},
     "nuid": "8439eca0-aadf-4d19-8875-d4980199003c",
     "showTitle": false,
     "tableResultSettingsMap": {},
     "title": ""
    }
   },
   "source": [
    "###  **Métricas**"
   ]
  },
  {
   "cell_type": "code",
   "execution_count": 0,
   "metadata": {
    "application/vnd.databricks.v1+cell": {
     "cellMetadata": {
      "byteLimit": 2048000,
      "rowLimit": 10000
     },
     "inputWidgets": {},
     "nuid": "42ed2694-919b-4aa1-8117-795961fd417b",
     "showTitle": false,
     "tableResultSettingsMap": {},
     "title": ""
    }
   },
   "outputs": [],
   "source": [
    "# Clientes unicos por grupo, com base no ID\n",
    "\n",
    "# Agrupar por is_target e contar clientes únicos\n",
    "group_data = (\n",
    "    df_abtest.groupBy(\"is_target\")\n",
    "    .agg(F.countDistinct(\"customer_id\").alias(\"clientes_unicos\"))\n",
    ")\n",
    "\n",
    "# Converter para Pandas para plotar\n",
    "group_pd = group_data.toPandas()\n",
    "\n",
    "# Definir cores no padrão iFood\n",
    "colors = ['#EA1D2C', '#2E2E2E']  # Vermelho e Cinza Escuro\n",
    "\n",
    "# Criar o gráfico\n",
    "plt.figure(figsize=(6, 4))\n",
    "bars = plt.bar(\n",
    "    group_pd['is_target'].astype(str),\n",
    "    group_pd['clientes_unicos'],\n",
    "    color=colors\n",
    ")\n",
    "\n",
    "# Adicionar rótulos formatados\n",
    "for bar in bars:\n",
    "    height = bar.get_height()\n",
    "    plt.text(\n",
    "        bar.get_x() + bar.get_width() / 2,\n",
    "        height,\n",
    "        f'{int(height):,}'.replace(',', '.'),\n",
    "        ha='center', va='bottom',\n",
    "        fontsize=10, fontweight='bold', color='#333333'\n",
    "    )\n",
    "\n",
    "# Personalização\n",
    "plt.xlabel('Grupo (0 = Controle, 1 = Target)', fontsize=10, fontweight='bold')\n",
    "plt.ylabel('Clientes Únicos', fontsize=10, fontweight='bold')\n",
    "plt.title('Distribuição de Clientes Únicos por Grupo', fontsize=12, fontweight='bold')\n",
    "plt.grid(axis='y', linestyle='--', alpha=0.7)\n",
    "plt.tight_layout()\n",
    "\n",
    "plt.show()\n"
   ]
  },
  {
   "cell_type": "code",
   "execution_count": 0,
   "metadata": {
    "application/vnd.databricks.v1+cell": {
     "cellMetadata": {
      "byteLimit": 2048000,
      "rowLimit": 10000
     },
     "inputWidgets": {},
     "nuid": "7ad949ea-015f-41d5-9762-98cab4849fbe",
     "showTitle": false,
     "tableResultSettingsMap": {},
     "title": ""
    }
   },
   "outputs": [],
   "source": [
    "#Total de pedidos, TKM e receita\n",
    "\n",
    "\n",
    "# Obter os dados agregados\n",
    "agg_data = df_abtest_orders.groupBy(\"is_target\").agg(\n",
    "    countDistinct(\"order_id\").alias(\"total_orders\"),\n",
    "    avg(\"order_total_amount\").alias(\"avg_order_value\"),\n",
    "    sum(\"order_total_amount\").alias(\"total_revenue\")\n",
    ")\n",
    "\n",
    "# Converter para Pandas\n",
    "agg_pd = agg_data.toPandas()\n",
    "\n",
    "# Transformar coluna is_target em string para melhor visualização no eixo\n",
    "agg_pd['is_target'] = agg_pd['is_target'].astype(str)\n",
    "\n",
    "# Definir cores padrão iFood\n",
    "colors = ['#EA1D2C', '#2E2E2E']  # Vermelho e Cinza Escuro\n",
    "\n",
    "\n",
    "# Gráfico 1 - Total de Pedidos\n",
    "plt.figure(figsize=(6,4))\n",
    "bars = plt.bar(agg_pd['is_target'], agg_pd['total_orders'], color=colors)\n",
    "\n",
    "for bar in bars:\n",
    "    height = bar.get_height()\n",
    "    plt.text(\n",
    "        bar.get_x() + bar.get_width()/2,\n",
    "        height,\n",
    "        f'{int(height):,}'.replace(',', '.'),\n",
    "        ha='center', va='bottom', fontsize=10, fontweight='bold', color='#333333'\n",
    "    )\n",
    "\n",
    "plt.title('Total de Pedidos por Grupo', fontsize=12, fontweight='bold')\n",
    "plt.xlabel('Grupo (0 = Controle, 1 = Target)', fontsize=10, fontweight='bold')\n",
    "plt.ylabel('Total de Pedidos', fontsize=10, fontweight='bold')\n",
    "plt.grid(axis='y', linestyle='--', alpha=0.7)\n",
    "plt.tight_layout()\n",
    "plt.show()\n",
    "\n",
    "\n",
    "# Gráfico 2 - Valor Médio por Pedido\n",
    "\n",
    "plt.figure(figsize=(6,4))\n",
    "bars = plt.bar(agg_pd['is_target'], agg_pd['avg_order_value'], color=colors)\n",
    "\n",
    "for bar in bars:\n",
    "    height = bar.get_height()\n",
    "    plt.text(\n",
    "        bar.get_x() + bar.get_width()/2,\n",
    "        height,\n",
    "        f'{height:,.2f}'.replace(',', 'X').replace('.', ',').replace('X', '.'),\n",
    "        ha='center', va='bottom', fontsize=10, fontweight='bold', color='#333333'\n",
    "    )\n",
    "\n",
    "plt.title('Ticket Médio por Grupo', fontsize=12, fontweight='bold')\n",
    "plt.xlabel('Grupo (0 = Controle, 1 = Target)', fontsize=10, fontweight='bold')\n",
    "plt.ylabel('Ticket Médio (R$)', fontsize=10, fontweight='bold')\n",
    "plt.grid(axis='y', linestyle='--', alpha=0.7)\n",
    "plt.tight_layout()\n",
    "plt.show()\n",
    "\n",
    "\n",
    "# Gráfico 3 - Receita Total\n",
    "\n",
    "plt.figure(figsize=(6,4))\n",
    "bars = plt.bar(agg_pd['is_target'], agg_pd['total_revenue'], color=colors)\n",
    "\n",
    "for bar in bars:\n",
    "    height = bar.get_height()\n",
    "    plt.text(\n",
    "        bar.get_x() + bar.get_width()/2,\n",
    "        height,\n",
    "        f'{height:,.2f}'.replace(',', 'X').replace('.', ',').replace('X', '.'),\n",
    "        ha='center', va='bottom', fontsize=10, fontweight='bold', color='#333333'\n",
    "    )\n",
    "\n",
    "plt.title('Receita Total por Grupo', fontsize=12, fontweight='bold')\n",
    "plt.xlabel('Grupo (0 = Controle, 1 = Target)', fontsize=10, fontweight='bold')\n",
    "plt.ylabel('Receita Total (R$)', fontsize=10, fontweight='bold')\n",
    "plt.grid(axis='y', linestyle='--', alpha=0.7)\n",
    "plt.tight_layout()\n",
    "plt.show()\n"
   ]
  },
  {
   "cell_type": "code",
   "execution_count": 0,
   "metadata": {
    "application/vnd.databricks.v1+cell": {
     "cellMetadata": {
      "byteLimit": 2048000,
      "rowLimit": 10000
     },
     "inputWidgets": {},
     "nuid": "95eafeb9-16dc-4b32-aa96-d0f6ef2c2632",
     "showTitle": false,
     "tableResultSettingsMap": {},
     "title": ""
    }
   },
   "outputs": [],
   "source": [
    "# Calcular frequência média\n",
    "total_pedidos = df_abtest_orders.groupBy(\"is_target\") \\\n",
    "    .agg(countDistinct(\"order_id\").alias(\"total_unique_orders\"))\n",
    "\n",
    "total_clientes = df_abtest.groupBy(\"is_target\") \\\n",
    "    .agg(countDistinct(\"customer_id\").alias(\"total_unique_customers\"))\n",
    "\n",
    "freq = total_pedidos.join(total_clientes, on=\"is_target\") \\\n",
    "    .withColumn(\"frequency_per_customer\", \n",
    "                col(\"total_unique_orders\") / col(\"total_unique_customers\"))\n",
    "\n",
    "# Converter para Pandas para plotagem\n",
    "freq_pd = freq.select(\"is_target\", \"frequency_per_customer\").toPandas()\n",
    "\n",
    "\n",
    "# Gráfico\n",
    "\n",
    "# Definir cores padrão iFood\n",
    "colors = ['#EA1D2C', '#2E2E2E']  # Vermelho e Cinza Escuro\n",
    "\n",
    "# Preparar os dados\n",
    "freq_pd['is_target'] = freq_pd['is_target'].astype(str)\n",
    "\n",
    "plt.figure(figsize=(6,4))\n",
    "bars = plt.bar(freq_pd['is_target'], freq_pd['frequency_per_customer'], color=colors)\n",
    "\n",
    "# Adicionar rótulos formatados\n",
    "for bar in bars:\n",
    "    height = bar.get_height()\n",
    "    plt.text(\n",
    "        bar.get_x() + bar.get_width()/2,\n",
    "        height,\n",
    "        f'{height:,.2f}'.replace(',', 'X').replace('.', ',').replace('X', '.'),\n",
    "        ha='center', va='bottom', fontsize=10, fontweight='bold', color='#333333'\n",
    "    )\n",
    "\n",
    "# Personalização do gráfico\n",
    "plt.title('Frequência Média de Pedidos por Cliente', fontsize=12, fontweight='bold')\n",
    "plt.xlabel('Grupo (0 = Controle, 1 = Target)', fontsize=10, fontweight='bold')\n",
    "plt.ylabel('Pedidos por Cliente', fontsize=10, fontweight='bold')\n",
    "plt.grid(axis='y', linestyle='--', alpha=0.7)\n",
    "plt.tight_layout()\n",
    "\n",
    "plt.show()"
   ]
  },
  {
   "cell_type": "code",
   "execution_count": 0,
   "metadata": {
    "application/vnd.databricks.v1+cell": {
     "cellMetadata": {
      "byteLimit": 2048000,
      "rowLimit": 10000
     },
     "inputWidgets": {},
     "nuid": "2e40ea6f-b036-47a6-8c81-ad786b33d20d",
     "showTitle": false,
     "tableResultSettingsMap": {},
     "title": ""
    }
   },
   "outputs": [],
   "source": [
    "# Calcular ARPU \n",
    "\n",
    "# Total de pedidos\n",
    "total_pedidos = df_abtest_orders.groupBy(\"is_target\") \\\n",
    "    .agg(countDistinct(\"order_id\").alias(\"total_unique_orders\"))\n",
    "\n",
    "# Total de clientes\n",
    "total_clientes = df_abtest.groupBy(\"is_target\") \\\n",
    "    .agg(countDistinct(\"customer_id\").alias(\"total_unique_customers\"))\n",
    "\n",
    "# Receita total\n",
    "receita_total = df_abtest_orders.groupBy(\"is_target\") \\\n",
    "    .agg(spark_sum(\"order_total_amount\").alias(\"total_revenue\"))\n",
    "\n",
    "# Métricas combinadas\n",
    "metrics = total_pedidos.join(total_clientes, on=\"is_target\") \\\n",
    "    .join(receita_total, on=\"is_target\") \\\n",
    "    .withColumn(\"frequency_per_customer\", col(\"total_unique_orders\") / col(\"total_unique_customers\")) \\\n",
    "    .withColumn(\"ARPU\", col(\"total_revenue\") / col(\"total_unique_customers\"))\n",
    "\n",
    "# Converter para Pandas para plotagem\n",
    "metrics_pd = metrics.select(\"is_target\", \"ARPU\").toPandas()\n",
    "\n",
    "# Gráfico ARPU\n",
    "\n",
    "# Definir cores no padrão iFood\n",
    "colors = ['#EA1D2C', '#2E2E2E']  # Vermelho e Cinza Escuro\n",
    "\n",
    "# Preparar os dados\n",
    "metrics_pd['is_target'] = metrics_pd['is_target'].astype(str)\n",
    "\n",
    "plt.figure(figsize=(6,4))\n",
    "bars = plt.bar(metrics_pd['is_target'], metrics_pd['ARPU'], color=colors)\n",
    "\n",
    "# Adicionar rótulos formatados\n",
    "for bar in bars:\n",
    "    height = bar.get_height()\n",
    "    plt.text(\n",
    "        bar.get_x() + bar.get_width()/2,\n",
    "        height,\n",
    "        f'{height:,.2f}'.replace(',', 'X').replace('.', ',').replace('X', '.'),\n",
    "        ha='center', va='bottom', fontsize=10, fontweight='bold', color='#333333'\n",
    "    )\n",
    "\n",
    "# Personalização do gráfico\n",
    "plt.title('ARPU (Receita Média por Usuário)', fontsize=12, fontweight='bold')\n",
    "plt.xlabel('Grupo (0 = Controle, 1 = Target)', fontsize=10, fontweight='bold')\n",
    "plt.ylabel('ARPU (R$)', fontsize=10, fontweight='bold')\n",
    "plt.grid(axis='y', linestyle='--', alpha=0.7)\n",
    "plt.tight_layout()\n",
    "\n",
    "plt.show()\n"
   ]
  },
  {
   "cell_type": "markdown",
   "metadata": {
    "application/vnd.databricks.v1+cell": {
     "cellMetadata": {},
     "inputWidgets": {},
     "nuid": "02e0eb20-15ab-4fea-8923-f3eb077b72f7",
     "showTitle": false,
     "tableResultSettingsMap": {},
     "title": ""
    }
   },
   "source": [
    "**Código para Verificar Significância Estatística de ARPU e Frequência**"
   ]
  },
  {
   "cell_type": "code",
   "execution_count": 0,
   "metadata": {
    "application/vnd.databricks.v1+cell": {
     "cellMetadata": {
      "byteLimit": 2048000,
      "rowLimit": 10000
     },
     "inputWidgets": {},
     "nuid": "e9f8fcd6-3c12-4e38-92cb-ce22139ad0c4",
     "showTitle": false,
     "tableResultSettingsMap": {},
     "title": ""
    }
   },
   "outputs": [],
   "source": [
    "# Juntar orders com abtest\n",
    "df_orders_ab = df_orders.join(df_abtest, on=\"customer_id\", how=\"inner\")\n",
    "\n",
    "# Calcular ARPU e frequência por cliente\n",
    "df_clientes = (\n",
    "    df_orders_ab.groupBy(\"customer_id\", \"is_target\")\n",
    "    .agg(\n",
    "        F.countDistinct(\"order_id\").alias(\"frequencia_pedidos\"),\n",
    "        F.sum(\"order_total_amount\").alias(\"receita\")\n",
    "    )\n",
    "    .withColumn(\"arpu\", F.col(\"receita\") / F.lit(1))  # receita total (para ARPU simples nesse contexto)\n",
    ")\n",
    "\n",
    "#  Converter para Pandas\n",
    "df_clientes_pd = df_clientes.toPandas()\n",
    "\n",
    "# Separar grupos\n",
    "grupo_target = df_clientes_pd[df_clientes_pd['is_target'] == 'True']\n",
    "grupo_controle = df_clientes_pd[df_clientes_pd['is_target'] == 'False']"
   ]
  },
  {
   "cell_type": "code",
   "execution_count": 0,
   "metadata": {
    "application/vnd.databricks.v1+cell": {
     "cellMetadata": {
      "byteLimit": 2048000,
      "rowLimit": 10000
     },
     "inputWidgets": {},
     "nuid": "72bd5c96-68e2-4e54-898b-1992024bc050",
     "showTitle": false,
     "tableResultSettingsMap": {},
     "title": ""
    }
   },
   "outputs": [],
   "source": [
    "# Teste t de Student — ARPU\n",
    "t_arpu, p_arpu = ttest_ind(\n",
    "    grupo_target['receita'],\n",
    "    grupo_controle['receita'],\n",
    "    equal_var=False  # Welch’s t-test (não assume variância igual)\n",
    ")\n",
    "\n",
    "print(f\" Teste ARPU → t = {t_arpu:.4f}, p = {p_arpu:.4f}\")\n",
    "if p_arpu < 0.05:\n",
    "    print(\"✅ Diferença de ARPU é estatisticamente significativa!\")\n",
    "else:\n",
    "    print(\"❌ Diferença de ARPU NÃO é estatisticamente significativa.\")"
   ]
  },
  {
   "cell_type": "code",
   "execution_count": 0,
   "metadata": {
    "application/vnd.databricks.v1+cell": {
     "cellMetadata": {
      "byteLimit": 2048000,
      "rowLimit": 10000
     },
     "inputWidgets": {},
     "nuid": "09ba71f4-2af6-4b5a-91fe-8d4fd4fce444",
     "showTitle": false,
     "tableResultSettingsMap": {},
     "title": ""
    }
   },
   "outputs": [],
   "source": [
    "# Teste de Frequência\n",
    "t_freq, p_freq = ttest_ind(\n",
    "    grupo_target['frequencia_pedidos'],\n",
    "    grupo_controle['frequencia_pedidos'],\n",
    "    equal_var=False\n",
    ")\n",
    "\n",
    "print(f\" Teste Frequência → t = {t_freq:.4f}, p = {p_freq:.4f}\")\n",
    "if p_freq < 0.05:\n",
    "    print(\"✅ Diferença de frequência é estatisticamente significativa!\")\n",
    "else:\n",
    "    print(\"❌ Diferença de frequência NÃO é estatisticamente significativa.\")\n"
   ]
  },
  {
   "cell_type": "markdown",
   "metadata": {
    "application/vnd.databricks.v1+cell": {
     "cellMetadata": {},
     "inputWidgets": {},
     "nuid": "06a90553-32ad-45b3-8047-efa24c96a71a",
     "showTitle": false,
     "tableResultSettingsMap": {},
     "title": ""
    }
   },
   "source": [
    "## **Viabilidade Financeira**"
   ]
  },
  {
   "cell_type": "code",
   "execution_count": 0,
   "metadata": {
    "application/vnd.databricks.v1+cell": {
     "cellMetadata": {
      "byteLimit": 2048000,
      "rowLimit": 10000
     },
     "inputWidgets": {},
     "nuid": "8ba5894a-c884-4a44-aa18-dcb48562cd12",
     "showTitle": false,
     "tableResultSettingsMap": {},
     "title": ""
    }
   },
   "outputs": [],
   "source": [
    "\n",
    "# Agrupando \n",
    "receita_grupos = df_abtest_orders.groupBy(\"is_target\").agg(\n",
    "    spark_sum(\"order_total_amount\").alias(\"receita_total\"),\n",
    "    countDistinct(\"order_id\").alias(\"total_pedidos\")\n",
    ")\n",
    "\n",
    "dados = receita_grupos.collect()\n",
    "\n",
    "# Transformar a lista em dicionário para acesso fácil\n",
    "resultado = {row[\"is_target\"]: row for row in dados}\n",
    "\n",
    "receita_control = resultado.get(\"control\", {\"receita_total\": 0})[\"receita_total\"] or 0.0\n",
    "receita_target = resultado.get(\"target\", {\"receita_total\": 0})[\"receita_total\"] or 0.0\n",
    "pedidos_target = resultado.get(\"target\", {\"total_pedidos\": 0})[\"total_pedidos\"] or 0\n",
    "\n",
    "receita_incremental = receita_target - receita_control\n",
    "custo_campanha = pedidos_target * 10\n",
    "resultado_liquido = receita_incremental - custo_campanha\n",
    "roi = resultado_liquido / custo_campanha if custo_campanha != 0 else float('nan')\n",
    "\n",
    "print(f\"Receita Control: R$ {receita_control:.2f}\")\n",
    "print(f\"Receita Target: R$ {receita_target:.2f}\")\n",
    "print(f\"Receita Incremental: R$ {receita_incremental:.2f}\")\n",
    "print(f\"Custo da Campanha: R$ {custo_campanha:.2f}\")\n",
    "print(f\"Resultado Líquido: R$ {resultado_liquido:.2f}\")\n",
    "print(f\"ROI: {roi:.2f}\")\n"
   ]
  },
  {
   "cell_type": "code",
   "execution_count": 0,
   "metadata": {
    "application/vnd.databricks.v1+cell": {
     "cellMetadata": {
      "byteLimit": 2048000,
      "rowLimit": 10000
     },
     "inputWidgets": {},
     "nuid": "2abfec98-c01f-4fe2-9565-f67c21363e81",
     "showTitle": false,
     "tableResultSettingsMap": {},
     "title": ""
    }
   },
   "outputs": [],
   "source": [
    "\n",
    "\n",
    "# Ajuste de estilo iFood\n",
    "sns.set_style(\"whitegrid\")\n",
    "plt.rcParams.update({\n",
    "    'axes.facecolor': '#FFFFFF',\n",
    "    'figure.facecolor': '#FFFFFF',\n",
    "    'axes.edgecolor': '#EC1B24',\n",
    "    'axes.labelcolor': '#EC1B24',\n",
    "    'xtick.color': '#EC1B24',\n",
    "    'ytick.color': '#EC1B24',\n",
    "    'text.color': '#EC1B24',\n",
    "    'font.size': 12,\n",
    "    'axes.titlesize': 16,\n",
    "    'axes.titleweight': 'bold',\n",
    "})\n",
    "\n",
    "# Dados (exemplo, substitua pelos seus valores)\n",
    "# receita_incremental, custo_campanha, resultado_liquido, roi\n",
    "# Já calculados no seu fluxo anterior\n",
    "\n",
    "fig, axs = plt.subplots(1, 3, figsize=(18,6))\n",
    "\n",
    "# 1. Receita Incremental\n",
    "axs[0].bar(\"Receita Incremental\", receita_incremental, color=\"#EC1B24\")\n",
    "axs[0].set_title(\"Receita Incremental (R$)\", fontsize=14)\n",
    "axs[0].grid(axis='y', linestyle='--', alpha=0.7)\n",
    "axs[0].set_ylim(0, receita_incremental*1.2 if receita_incremental > 0 else 10)\n",
    "axs[0].text(0, receita_incremental*1.05 if receita_incremental > 0 else 0, f\"R$ {receita_incremental:,.2f}\", ha='center', fontsize=12)\n",
    "\n",
    "# 2. Custo da Campanha em cinza escuro\n",
    "axs[1].bar(\"Custo da Campanha\", custo_campanha, color=\"#4B4B4B\")\n",
    "axs[1].set_title(\"Custo da Campanha (R$)\", fontsize=14)\n",
    "axs[1].grid(axis='y', linestyle='--', alpha=0.7)\n",
    "axs[1].set_ylim(0, custo_campanha*1.2 if custo_campanha > 0 else 10)\n",
    "axs[1].text(0, custo_campanha*1.05 if custo_campanha > 0 else 0, f\"R$ {custo_campanha:,.2f}\", ha='center', fontsize=12)\n",
    "\n",
    "# 3. Resultado Líquido\n",
    "axs[2].bar(\"Resultado Líquido\", resultado_liquido, color=\"#EC1B24\")\n",
    "axs[2].set_title(\"Resultado Líquido (R$)\", fontsize=14)\n",
    "axs[2].grid(axis='y', linestyle='--', alpha=0.7)\n",
    "if resultado_liquido > 0:\n",
    "    axs[2].set_ylim(0, resultado_liquido*1.2)\n",
    "    axs[2].text(0, resultado_liquido*1.05, f\"R$ {resultado_liquido:,.2f}\", ha='center', fontsize=12)\n",
    "else:\n",
    "    axs[2].set_ylim(resultado_liquido*1.2, 0)\n",
    "    axs[2].text(0, resultado_liquido*1.05, f\"R$ {resultado_liquido:,.2f}\", ha='center', fontsize=12)\n",
    "\n",
    "plt.tight_layout()\n",
    "plt.show()\n",
    "\n",
    "\n",
    "# Gráfico separado para ROI\n",
    "\n",
    "fig, ax = plt.subplots(figsize=(4,6))\n",
    "\n",
    "roi_perc = roi * 100\n",
    "\n",
    "ylim_min = roi_perc * 1.2 if roi_perc < 0 else 0\n",
    "ylim_max = roi_perc * 1.2 if roi_perc > 0 else 10\n",
    "\n",
    "ax.bar(\"ROI (%)\", roi_perc, color=\"#F88379\")  # vermelho mais claro\n",
    "ax.set_title(\"ROI (%)\", fontsize=16, weight='bold', color='#EC1B24')\n",
    "ax.set_ylabel(\"Percentual (%)\")\n",
    "ax.grid(axis='y', linestyle='--', alpha=0.7)\n",
    "ax.set_ylim(ylim_min, ylim_max)\n",
    "ax.text(0, roi_perc + (ylim_max - ylim_min)*0.05, f\"{roi_perc:.2f}%\", ha='center', fontsize=14)\n",
    "\n",
    "plt.tight_layout()\n",
    "plt.show()\n",
    "\n",
    "\n",
    "\n",
    "\n"
   ]
  }
 ],
 "metadata": {
  "application/vnd.databricks.v1+notebook": {
   "computePreferences": null,
   "dashboards": [],
   "environmentMetadata": {
    "base_environment": "",
    "environment_version": "1"
   },
   "inputWidgetPreferences": null,
   "language": "python",
   "notebookMetadata": {
    "pythonIndentUnit": 4
   },
   "notebookName": "Case_Ifood_AB_analise_teste (1)",
   "widgets": {}
  }
 },
 "nbformat": 4,
 "nbformat_minor": 0
}